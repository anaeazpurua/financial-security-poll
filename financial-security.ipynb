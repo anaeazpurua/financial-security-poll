{
 "cells": [
  {
   "cell_type": "markdown",
   "id": "4b09399d",
   "metadata": {},
   "source": [
    "### Financial security perception\n"
   ]
  },
  {
   "cell_type": "code",
   "execution_count": 3,
   "id": "5afcba42",
   "metadata": {},
   "outputs": [],
   "source": [
    "import pandas as pd\n",
    "import altair as alt"
   ]
  },
  {
   "cell_type": "code",
   "execution_count": 4,
   "id": "ed8dfa88",
   "metadata": {},
   "outputs": [],
   "source": [
    "import matplotlib as mpl\n",
    "import matplotlib.pyplot as plt\n",
    "import numpy as np\n",
    "import matplotlib.cbook as cbook"
   ]
  },
  {
   "cell_type": "code",
   "execution_count": 5,
   "id": "151f2e7c",
   "metadata": {},
   "outputs": [],
   "source": [
    "plt.rcParams[\"figure.figsize\"] = [7.00, 3.50]\n",
    "plt.rcParams[\"figure.autolayout\"] = True\n",
    "columns = [\"income_now\", \"income_secure\"]\n",
    "df = pd.read_csv(\"financial_security_income.csv\", usecols=columns)\n",
    "print(\"Contents in csv file:\", df)\n",
    "plt.plot(df.income_now, df.income_secure)\n"
   ]
  },
  {
   "cell_type": "code",
   "execution_count": 12,
   "id": "5f4ef258",
   "metadata": {},
   "outputs": [],
   "source": [
    "source = df\n",
    "chart = alt.Chart(source).mark_point().encode(\n",
    "    x ='income_secure',\n",
    "    y ='income_now'\n",
    ")\n",
    "chart"
   ]
  },
  {
   "cell_type": "code",
   "execution_count": 13,
   "id": "70dbdafb",
   "metadata": {},
   "outputs": [],
   "source": [
    "chart = alt.Chart(\n",
    "        df, \n",
    "        title=alt.Title(\n",
    "            'Great expectations', \n",
    "            subtitle=['What annual income would you need', 'to feel financially secure/comfortable?']\n",
    "    )\n",
    ").mark_bar(color='green', size=30).encode(\n",
    "        alt.Y ('income_now').title('income now').sort('x'),\n",
    "        alt.X ('income_secure').title('desired income ($)')\n",
    ").configure_axis(\n",
    "    grid=False\n",
    ").configure_view(\n",
    "    stroke=None\n",
    ").properties(\n",
    "    width=225,\n",
    "    height=180\n",
    "    \n",
    ")\n",
    "chart"
   ]
  },
  {
   "cell_type": "code",
   "execution_count": 8,
   "id": "81d75965",
   "metadata": {},
   "outputs": [],
   "source": [
    "#I tried adding the $ sign but it didn't work... I get NaN and scientific notation...\n",
    "#I also tried editing it in the Vega editor and exporting it in html to embed it in my site. \n",
    "#But it did not display, so I decided to export it as an svg and edit it in Illustrator. \n",
    "alt.Chart(\n",
    "        df, \n",
    "        title=alt.Title(\n",
    "            'Great expectations', \n",
    "            subtitle=['What annual income would you need', 'to feel financially secure/comfortable?']\n",
    "    )\n",
    ").mark_bar(color='green', size=30).encode(\n",
    "        alt.X('income_secure').axis(format='$').title('desireable income'),\n",
    "        alt.Y('income_now').axis(format='$').title('income now')\n",
    ").configure_axis(\n",
    "    grid=False\n",
    ").configure_view(\n",
    "    stroke=None\n",
    ").properties(\n",
    "    width=225,\n",
    "    height=180\n",
    "    \n",
    ")"
   ]
  },
  {
   "cell_type": "code",
   "execution_count": 9,
   "id": "3b24963e",
   "metadata": {},
   "outputs": [],
   "source": [
    "#I'm adding a data point for the mean annual salary for full time workers\n",
    "df2 = pd.read_csv(\"poll_data.csv\", usecols=columns)\n",
    "df2"
   ]
  },
  {
   "cell_type": "code",
   "execution_count": 10,
   "id": "b30e3330",
   "metadata": {},
   "outputs": [],
   "source": [
    "alt.Chart(\n",
    "        df2\n",
    "        #title=alt.Title(\n",
    "            #'Great expectations', \n",
    "            #subtitle=['What annual income would you need', 'to feel financially secure/comfortable?']\n",
    ").mark_bar(color='green', size=30).encode(\n",
    "        alt.Y ('income_now').title('income now').sort('x'),\n",
    "        alt.X ('income_secure').title('desired income ($)')\n",
    ").configure_axis(\n",
    "    grid=False\n",
    ").configure_view(\n",
    "    stroke=None\n",
    ").properties(\n",
    "    width=225,\n",
    "    height=180\n",
    "    \n",
    ")"
   ]
  },
  {
   "cell_type": "code",
   "execution_count": null,
   "id": "7f749885",
   "metadata": {},
   "outputs": [],
   "source": []
  }
 ],
 "metadata": {
  "kernelspec": {
   "display_name": "Python 3 (ipykernel)",
   "language": "python",
   "name": "python3"
  },
  "language_info": {
   "codemirror_mode": {
    "name": "ipython",
    "version": 3
   },
   "file_extension": ".py",
   "mimetype": "text/x-python",
   "name": "python",
   "nbconvert_exporter": "python",
   "pygments_lexer": "ipython3",
   "version": "3.10.11"
  }
 },
 "nbformat": 4,
 "nbformat_minor": 5
}
